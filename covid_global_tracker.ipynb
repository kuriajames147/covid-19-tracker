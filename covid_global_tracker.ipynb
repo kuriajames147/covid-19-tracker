{
 "cells": [
  {
   "cell_type": "code",
   "execution_count": null,
   "id": "072dad21",
   "metadata": {
    "vscode": {
     "languageId": "plaintext"
    }
   },
   "outputs": [],
   "source": [
    "# -------------------------------------------------------\n",
    "# 🧪 1. Data Collection & Loading\n",
    "# -------------------------------------------------------\n",
    "\n",
    "import pandas as pd\n",
    "import matplotlib.pyplot as plt\n",
    "import seaborn as sns\n",
    "\n",
    "# Optional: for interactive world map\n",
    "# import plotly.express as px\n",
    "\n",
    "# Set seaborn style\n",
    "sns.set(style='darkgrid')\n",
    "\n",
    "# Load the dataset\n",
    "try:\n",
    "    df = pd.read_csv('owid-covid-data.csv')\n",
    "    print(\"✅ Dataset loaded successfully!\")\n",
    "except FileNotFoundError:\n",
    "    print(\"❌ File not found. Please make sure 'owid-covid-data.csv' is in your working directory.\")\n",
    "\n",
    "# Preview dataset\n",
    "df.head()\n"
   ]
  },
  {
   "cell_type": "code",
   "execution_count": null,
   "id": "48858a20",
   "metadata": {
    "vscode": {
     "languageId": "plaintext"
    }
   },
   "outputs": [],
   "source": [
    "# -------------------------------------------------------\n",
    "# 🔍 2. Data Exploration\n",
    "# -------------------------------------------------------\n",
    "\n",
    "# View column names\n",
    "print(\"Columns in dataset:\")\n",
    "print(df.columns)\n",
    "\n",
    "# Check shape and missing values\n",
    "print(f\"\\nDataset Shape: {df.shape}\")\n",
    "print(\"\\nMissing values per column:\")\n",
    "print(df.isnull().sum())\n",
    "\n",
    "# Focus on key columns\n",
    "columns_of_interest = ['date', 'location', 'total_cases', 'new_cases', 'total_deaths',\n",
    "                       'new_deaths', 'total_vaccinations', 'people_vaccinated', 'people_fully_vaccinated']\n",
    "df = df[columns_of_interest]\n",
    "df.head()\n"
   ]
  },
  {
   "cell_type": "code",
   "execution_count": null,
   "id": "c612be3a",
   "metadata": {
    "vscode": {
     "languageId": "plaintext"
    }
   },
   "outputs": [],
   "source": [
    "# -------------------------------------------------------\n",
    "# 🧹 3. Data Cleaning\n",
    "# -------------------------------------------------------\n",
    "\n",
    "# Convert date to datetime\n",
    "df['date'] = pd.to_datetime(df['date'])\n",
    "\n",
    "# Filter countries of interest\n",
    "countries = ['Kenya', 'India', 'United States']\n",
    "df = df[df['location'].isin(countries)]\n",
    "\n",
    "# Fill missing numeric values with forward fill\n",
    "df.fillna(method='ffill', inplace=True)\n",
    "\n",
    "# Drop remaining rows with critical missing data\n",
    "df.dropna(subset=['total_cases', 'total_deaths'], inplace=True)\n",
    "\n",
    "# Confirm cleaning\n",
    "df.isnull().sum()\n"
   ]
  },
  {
   "cell_type": "code",
   "execution_count": null,
   "id": "705d988f",
   "metadata": {
    "vscode": {
     "languageId": "plaintext"
    }
   },
   "outputs": [],
   "source": [
    "# -------------------------------------------------------\n",
    "# 📊 4. Exploratory Data Analysis (EDA)\n",
    "# -------------------------------------------------------\n",
    "\n",
    "# Line chart: Total cases over time\n",
    "plt.figure(figsize=(12, 6))\n",
    "for country in countries:\n",
    "    sns.lineplot(data=df[df['location'] == country], x='date', y='total_cases', label=country)\n",
    "\n",
    "plt.title('📈 Total COVID-19 Cases Over Time')\n",
    "plt.xlabel('Date')\n",
    "plt.ylabel('Total Cases')\n",
    "plt.legend()\n",
    "plt.tight_layout()\n",
    "plt.show()\n",
    "\n",
    "# Line chart: Total deaths over time\n",
    "plt.figure(figsize=(12, 6))\n",
    "for country in countries:\n",
    "    sns.lineplot(data=df[df['location'] == country], x='date', y='total_deaths', label=country)\n",
    "\n",
    "plt.title('☠️ Total COVID-19 Deaths Over Time')\n",
    "plt.xlabel('Date')\n",
    "plt.ylabel('Total Deaths')\n",
    "plt.legend()\n",
    "plt.tight_layout()\n",
    "plt.show()\n",
    "\n",
    "# Death rate calculation\n",
    "df['death_rate'] = df['total_deaths'] / df['total_cases']\n",
    "df[df['location'] == 'Kenya'][['date', 'death_rate']].tail()\n"
   ]
  },
  {
   "cell_type": "code",
   "execution_count": null,
   "id": "bf1811fb",
   "metadata": {
    "vscode": {
     "languageId": "plaintext"
    }
   },
   "outputs": [],
   "source": [
    "# -------------------------------------------------------\n",
    "# 💉 5. Vaccination Progress\n",
    "# -------------------------------------------------------\n",
    "\n",
    "# Line chart: Total vaccinations over time\n",
    "plt.figure(figsize=(12, 6))\n",
    "for country in countries:\n",
    "    sns.lineplot(data=df[df['location'] == country], x='date', y='total_vaccinations', label=country)\n",
    "\n",
    "plt.title('💉 COVID-19 Vaccinations Over Time')\n",
    "plt.xlabel('Date')\n",
    "plt.ylabel('Total Vaccinations')\n",
    "plt.legend()\n",
    "plt.tight_layout()\n",
    "plt.show()\n"
   ]
  },
  {
   "cell_type": "code",
   "execution_count": null,
   "id": "4e69522d",
   "metadata": {
    "vscode": {
     "languageId": "plaintext"
    }
   },
   "outputs": [],
   "source": [
    "# -------------------------------------------------------\n",
    "# 🗺️ 6. Optional: Choropleth Map (Cases by Country)\n",
    "# -------------------------------------------------------\n",
    "\n",
    "# Uncomment the next block if using plotly (make sure plotly is installed)\n",
    "\n",
    "# import plotly.express as px\n",
    "\n",
    "# latest_df = df[df['date'] == df['date'].max()]\n",
    "# choropleth_df = latest_df.groupby('location').max().reset_index()\n",
    "\n",
    "# fig = px.choropleth(choropleth_df,\n",
    "#                     locations=\"location\",\n",
    "#                     locationmode=\"country names\",\n",
    "#                     color=\"total_cases\",\n",
    "#                     title=\"🌍 COVID-19 Total Cases by Country\",\n",
    "#                     color_continuous_scale=\"Reds\")\n",
    "\n",
    "# fig.show()\n"
   ]
  },
  {
   "cell_type": "code",
   "execution_count": null,
   "id": "156ac726",
   "metadata": {
    "vscode": {
     "languageId": "plaintext"
    }
   },
   "outputs": [],
   "source": [
    "# -------------------------------------------------------\n",
    "# 🧠 7. Insights & Reporting\n",
    "# -------------------------------------------------------\n",
    "\n",
    "# Write narrative insights as markdown in Jupyter, e.g.:\n",
    "\n",
    "\"\"\"\n",
    "### 🔍 Insights\n",
    "\n",
    "1. The United States had the highest number of total cases throughout the pandemic.\n",
    "2. India's vaccination rollout ramped up significantly in 2021.\n",
    "3. Kenya’s death rate remained lower than the global average.\n",
    "4. Significant spikes in daily new cases were visible in early 2021 and 2022 across countries.\n",
    "5. Vaccination coverage varied widely, impacting the pandemic trajectory.\n",
    "\n",
    "You can expand these insights into a formal report or presentation.\n",
    "\"\"\"\n"
   ]
  }
 ],
 "metadata": {
  "language_info": {
   "name": "python"
  }
 },
 "nbformat": 4,
 "nbformat_minor": 5
}
